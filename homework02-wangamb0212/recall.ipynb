{
 "cells": [
  {
   "cell_type": "markdown",
   "id": "6857504c-31f0-41dc-9247-2c0316a8fc50",
   "metadata": {},
   "source": [
    "# Homework 02"
   ]
  },
  {
   "cell_type": "markdown",
   "id": "51229c1a-133d-4342-935c-4f5fa9de9fd1",
   "metadata": {},
   "source": [
    "# Table of Contents\n",
    "\n",
    "* [first lambda](#first-lambda)\n",
    "* [second lambda](#second-lambda)"
   ]
  },
  {
   "cell_type": "markdown",
   "id": "a6bd58df-6814-45ee-bbe3-26c2c8da0599",
   "metadata": {},
   "source": [
    "Part1"
   ]
  },
  {
   "cell_type": "code",
   "execution_count": 1,
   "id": "ef325df0-23aa-4a67-9056-b1271767446b",
   "metadata": {},
   "outputs": [],
   "source": [
    "import csv"
   ]
  },
  {
   "cell_type": "markdown",
   "id": "a2274f8b-b38d-406d-8bee-8e579f8dbb78",
   "metadata": {},
   "source": [
    "* [first lambda](#first-lambda)"
   ]
  },
  {
   "cell_type": "code",
   "execution_count": 3,
   "id": "1c6f87c0-0e44-416e-9200-552943acd644",
   "metadata": {},
   "outputs": [
    {
     "name": "stdout",
     "output_type": "stream",
     "text": [
      "('Mercedes-Benz USA, LLC', '1') ('Chrysler (FCA US, LLC)', '1224078')\n"
     ]
    }
   ],
   "source": [
    "with open(\"recalls-truncated.csv\", \"r\") as f:\n",
    "    data = csv.reader(f, delimiter=',')\n",
    "    data1 = [(row[1], row[4]) for row in data  if row[3] == 'Vehicle']\n",
    "\n",
    "print(min(data1, key=lambda x: int(x[1])), max(data1, key=lambda x: int(x[1])))"
   ]
  },
  {
   "cell_type": "markdown",
   "id": "7852222a-d888-448a-aeee-86a566effebf",
   "metadata": {},
   "source": [
    "Part3\n"
   ]
  },
  {
   "cell_type": "code",
   "execution_count": 4,
   "id": "074053e4-946b-41fc-9216-7f8eed83c3b2",
   "metadata": {},
   "outputs": [],
   "source": [
    "\n",
    "import nelta as nt\n"
   ]
  },
  {
   "cell_type": "code",
   "execution_count": 5,
   "id": "b71095c4-0ed8-4820-a557-85d5426120fb",
   "metadata": {},
   "outputs": [],
   "source": [
    "data = nt.read_csv(\"recalls-truncated.csv\")"
   ]
  },
  {
   "cell_type": "code",
   "execution_count": 6,
   "id": "45574fbd-0be2-4f80-ab6d-a052a6b53c4a",
   "metadata": {},
   "outputs": [
    {
     "name": "stdout",
     "output_type": "stream",
     "text": [
      "(350, 5)\n"
     ]
    }
   ],
   "source": [
    "print(data.shape())"
   ]
  },
  {
   "cell_type": "code",
   "execution_count": 7,
   "id": "55d50635-cb30-4896-a326-98a91224d5c3",
   "metadata": {},
   "outputs": [
    {
     "name": "stdout",
     "output_type": "stream",
     "text": [
      "['Date', 'Manufacturer', 'Subject', 'Recall Type', 'Potentially Affected']\n"
     ]
    }
   ],
   "source": [
    "print(data.columns)"
   ]
  },
  {
   "cell_type": "code",
   "execution_count": 8,
   "id": "4ae79ace-bc22-4ad1-8106-9a7cfad066e5",
   "metadata": {},
   "outputs": [
    {
     "name": "stdout",
     "output_type": "stream",
     "text": [
      "          Date                        Manufacturer                                        Subject   Recall Type   Potentially Affected   \n",
      "0   01/06/2023      Triple E Recreational Vehicles            Battery Disconnect Switch May Short       Vehicle                  341.0   \n",
      "1   01/05/2023                  Volvo Car USA, LLC                     Steering Wheel May Lock Up       Vehicle                   74.0   \n",
      "2   12/29/2022   Volkswagen Group of America, Inc.        12-Volt Battery Cable May Short Circuit       Vehicle                 1042.0   \n",
      "3   12/29/2022           Indian Motorcycle Company   Kickstand May Not Retract Properly/FMVSS 123       Vehicle                 4653.0   \n",
      "\n"
     ]
    }
   ],
   "source": [
    "print(data.head(4))"
   ]
  },
  {
   "cell_type": "code",
   "execution_count": 9,
   "id": "df6c748b-7e4d-485c-ae55-063bc3cf88f5",
   "metadata": {},
   "outputs": [],
   "source": [
    "last_four = data.tail(4)"
   ]
  },
  {
   "cell_type": "code",
   "execution_count": 10,
   "id": "f4e478f5-447f-4371-9d07-3313e25b235a",
   "metadata": {},
   "outputs": [
    {
     "name": "stdout",
     "output_type": "stream",
     "text": [
      "346       Improperly Secured Front Seat Belt Anchor\n",
      "347 Rearview Camera Image May Not Display/FMVSS 111\n",
      "348                  Secondary Hood Latch Corrosion\n",
      "349             Tire Sidewall Separation/ FMVSS 139\n",
      "\n"
     ]
    }
   ],
   "source": [
    "print(last_four[\"Subject\"])"
   ]
  },
  {
   "cell_type": "code",
   "execution_count": 11,
   "id": "ef6beb5d-2889-42c6-bc44-8db6f1643cdf",
   "metadata": {},
   "outputs": [
    {
     "name": "stdout",
     "output_type": "stream",
     "text": [
      "Improperly Secured Front Seat Belt Anchor\n",
      "Rearview Camera Image May Not Display/FMVSS 111\n",
      "Secondary Hood Latch Corrosion\n",
      "Tire Sidewall Separation/ FMVSS 139\n"
     ]
    }
   ],
   "source": [
    "for val in last_four[\"Subject\"]:\n",
    "    print(val)"
   ]
  },
  {
   "cell_type": "code",
   "execution_count": 12,
   "id": "627111d6-f609-4f62-a49d-174de03c4f7a",
   "metadata": {},
   "outputs": [
    {
     "name": "stdout",
     "output_type": "stream",
     "text": [
      "                        Manufacturer                                           Subject   \n",
      "346           Rivian Automotive, LLC         Improperly Secured Front Seat Belt Anchor   \n",
      "347           Chrysler (FCA US, LLC)   Rearview Camera Image May Not Display/FMVSS 111   \n",
      "348              General Motors, LLC                    Secondary Hood Latch Corrosion   \n",
      "349   PT. Elangperdana Tyre Industry               Tire Sidewall Separation/ FMVSS 139   \n",
      "\n"
     ]
    }
   ],
   "source": [
    "print(last_four[[\"Manufacturer\", \"Subject\"]])"
   ]
  },
  {
   "cell_type": "code",
   "execution_count": 13,
   "id": "f016ac36-4b70-4c50-aff9-4946ccd19dd6",
   "metadata": {},
   "outputs": [],
   "source": [
    "col_list = []\n",
    "for i in data.values:\n",
    "    col_list.append(i[3] == 'Vehicle')\n",
    "details = data[col_list]"
   ]
  },
  {
   "cell_type": "code",
   "execution_count": 14,
   "id": "64c6c4a9-38f0-456d-a968-c738ea61424a",
   "metadata": {},
   "outputs": [
    {
     "name": "stdout",
     "output_type": "stream",
     "text": [
      "313\n"
     ]
    }
   ],
   "source": [
    "print(len(details.index))"
   ]
  },
  {
   "cell_type": "code",
   "execution_count": 15,
   "id": "93de0211-2fe8-4852-ae72-6f9e40a3e9bf",
   "metadata": {},
   "outputs": [],
   "source": [
    "my_filter = details[\"Potentially Affected\"] > 500000"
   ]
  },
  {
   "cell_type": "code",
   "execution_count": 16,
   "id": "f6ff1e20-7e22-41f9-b87b-127983d9940c",
   "metadata": {},
   "outputs": [
    {
     "name": "stdout",
     "output_type": "stream",
     "text": [
      "<class 'nelta.LabeledList'>\n"
     ]
    }
   ],
   "source": [
    "print(type(my_filter))"
   ]
  },
  {
   "cell_type": "code",
   "execution_count": 17,
   "id": "dc0c42e8-59ea-4f71-868f-0c782a38192f",
   "metadata": {},
   "outputs": [
    {
     "name": "stdout",
     "output_type": "stream",
     "text": [
      "False\n"
     ]
    }
   ],
   "source": [
    "print(my_filter[3])"
   ]
  },
  {
   "cell_type": "code",
   "execution_count": 18,
   "id": "95bf14e2-0ced-4926-af74-60c7da5eeee0",
   "metadata": {},
   "outputs": [
    {
     "name": "stdout",
     "output_type": "stream",
     "text": [
      "            Date             Manufacturer                                           Subject   Recall Type   Potentially Affected   \n",
      " 60   12/08/2022      General Motors, LLC       Running Lights May Not Deactivate/FMVSS 108       Vehicle               740108.0   \n",
      " 61   12/08/2022   Chrysler (FCA US, LLC)                   Tailgate May Open While Driving       Vehicle              1224078.0   \n",
      "110   11/18/2022       Ford Motor Company   Cracked Fuel Injector May Leak and Cause a Fire       Vehicle               521746.0   \n",
      "284   09/19/2022              Tesla, Inc.                 Power Windows May Pinch/FMVSS 118       Vehicle              1096762.0   \n",
      "\n"
     ]
    }
   ],
   "source": [
    "rare_occurence = details[my_filter]\n",
    "print(rare_occurence)"
   ]
  },
  {
   "cell_type": "markdown",
   "id": "96e8cad2-7c7f-475a-9a1c-4203e498c37c",
   "metadata": {},
   "source": [
    "### Second lambda"
   ]
  },
  {
   "cell_type": "code",
   "execution_count": 19,
   "id": "9fcb26c3-abd8-4c88-91b2-58a5b410d7cf",
   "metadata": {},
   "outputs": [
    {
     "name": "stdout",
     "output_type": "stream",
     "text": [
      " 60    GENERAL MOTORS, LLC\n",
      " 61 CHRYSLER (FCA US, LLC)\n",
      "110     FORD MOTOR COMPANY\n",
      "284            TESLA, INC.\n",
      "\n"
     ]
    }
   ],
   "source": [
    "print(rare_occurence[\"Manufacturer\"].map(lambda x: x.upper()))"
   ]
  },
  {
   "cell_type": "code",
   "execution_count": 21,
   "id": "9d9f5900-cc75-4edc-aa76-e95430743466",
   "metadata": {},
   "outputs": [
    {
     "data": {
      "text/plain": [
       "          Date                     Manufacturer                               Subject   Recall Type   Potentially Affected   \n",
       "0   01/06/2023   Triple E Recreational Vehicles   Battery Disconnect Switch May Short       Vehicle                  341.0   \n",
       "1   01/05/2023               Volvo Car USA, LLC            Steering Wheel May Lock Up       Vehicle                   74.0   "
      ]
     },
     "execution_count": 21,
     "metadata": {},
     "output_type": "execute_result"
    }
   ],
   "source": [
    "recall = data[\"Date\"]\n",
    "temp=[]\n",
    "for i in recall.values:\n",
    "    temp.append(i[-4:])\n",
    "recall.values = temp\n",
    "recall2023 = (recall == '2023')\n",
    "data[recall2023]\n"
   ]
  },
  {
   "cell_type": "raw",
   "id": "af586285-d704-4873-b445-ec7641a9400e",
   "metadata": {},
   "source": []
  },
  {
   "cell_type": "code",
   "execution_count": null,
   "id": "4f0c68b5-f412-4862-88b7-f58f69aeb889",
   "metadata": {},
   "outputs": [],
   "source": []
  }
 ],
 "metadata": {
  "kernelspec": {
   "display_name": "Python 3 (ipykernel)",
   "language": "python",
   "name": "python3"
  },
  "language_info": {
   "codemirror_mode": {
    "name": "ipython",
    "version": 3
   },
   "file_extension": ".py",
   "mimetype": "text/x-python",
   "name": "python",
   "nbconvert_exporter": "python",
   "pygments_lexer": "ipython3",
   "version": "3.9.13"
  }
 },
 "nbformat": 4,
 "nbformat_minor": 5
}
